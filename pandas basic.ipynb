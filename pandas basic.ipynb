{
 "cells": [
  {
   "cell_type": "markdown",
   "id": "fbf4d4a9-47de-4454-a7dc-1e15d690ccc9",
   "metadata": {},
   "source": [
    "Q1. Create a Pandas Series that contains the following data: 4, 8, 15, 16, 23, and 42. Then, print the series.\n",
    "Ans:\n",
    "    code:\n",
    "        import pandas as pd\n",
    "\n",
    "data = [4, 8, 15, 16, 23, 42]\n",
    "series = pd.Series(data)\n",
    "print(series)\n"
   ]
  },
  {
   "cell_type": "markdown",
   "id": "29c32b8d-04b6-4882-9fd0-b5e763c79d6b",
   "metadata": {},
   "source": [
    "Q2. Create a variable of list type containing 10 elements in it, and apply pandas.Series function on the variable print it.\n",
    "Ans:\n",
    "    import pandas as pd\n",
    "\n",
    "my_list = [1, 2, 3, 4, 5, 6, 7, 8, 9, 10]\n",
    "series_from_list = pd.Series(my_list)\n",
    "print(series_from_list)\n"
   ]
  },
  {
   "cell_type": "markdown",
   "id": "7e2ac8e0-4dab-4718-acf0-274f03b98388",
   "metadata": {},
   "source": [
    "Q3. Create a Pandas DataFrame that contains the following data:\n",
    "\n",
    "Name\tAge\tCity\n",
    "Alice\t25\tNew York\n",
    "Bob\t30\tLos Angeles\n",
    "Carol\t22\tChicago\n",
    "Ans:\n",
    "    import pandas as pd\n",
    "\n",
    "data = {'Name': ['Alice', 'Bob', 'Carol'],\n",
    "        'Age': [25, 30, 22],\n",
    "        'City': ['New York', 'Los Angeles', 'Chicago']}\n",
    "\n",
    "df = pd.DataFrame(data)\n",
    "print(df)\n"
   ]
  },
  {
   "cell_type": "markdown",
   "id": "42831a22-de2f-4a4f-8ab2-7745b69823a8",
   "metadata": {},
   "source": [
    "Q4. What is ‘DataFrame’ in pandas and how is it different from pandas.series? Explain with an example.\n",
    "Ans:\n",
    "    \n",
    "\n",
    "A DataFrame in pandas is a 2-dimensional labeled data structure with columns of potentially different data types. It is similar to a spreadsheet or SQL table and is a primary data structure used for data manipulation and analysis in pandas.\n",
    "\n",
    "The main differences between a DataFrame and a Series are:\n",
    "\n",
    "A Series is a 1-dimensional data structure that represents a single column of data, while a DataFrame is a 2-dimensional structure that can hold multiple columns.\n",
    "Each column in a DataFrame can have a different data type, whereas all elements in a Series have the same data type.\n",
    "Example:\n",
    "    import pandas as pd\n",
    "\n",
    "# Creating a Series\n",
    "series = pd.Series([1, 2, 3, 4, 5], name='Numbers')\n",
    "\n",
    "# Creating a DataFrame from a dictionary\n",
    "data = {'Name': ['Alice', 'Bob', 'Carol'],\n",
    "        'Age': [25, 30, 22]}\n",
    "df = pd.DataFrame(data)\n",
    "\n",
    "print(\"Series:\")\n",
    "print(series)\n",
    "print(\"\\nDataFrame:\")\n",
    "print(df)\n"
   ]
  },
  {
   "cell_type": "markdown",
   "id": "e45dc814-e2c2-4829-a790-ae3a7f972a18",
   "metadata": {},
   "source": [
    "Q5. What are some common functions you can use to manipulate data in a Pandas DataFrame? Can you give an example of when you might use one of these functions?\n",
    "\n",
    "Common functions to manipulate data in a Pandas DataFrame include:\n",
    "\n",
    "head(): View the first few rows of the DataFrame.\n",
    "tail(): View the last few rows of the DataFrame.\n",
    "describe(): Generate summary statistics of the DataFrame.\n",
    "info(): Display information about the DataFrame, including data types and missing values.\n",
    "set_index(): Set one or more columns as the index.\n",
    "reset_index(): Reset the index of the DataFrame.\n",
    "sort_values(): Sort the DataFrame by one or more columns.\n",
    "groupby(): Group data based on a column's values.\n",
    "agg(): Apply aggregation functions to grouped data.\n",
    "pivot_table(): Create a pivot table from the DataFrame.\n",
    "drop(): Remove rows or columns from the DataFrame.\n",
    "fillna(): Fill missing values in the DataFrame.\n",
    "apply(): Apply a function to each element or row/column of the DataFrame.\n",
    "Example:\n",
    "    import pandas as pd\n",
    "\n",
    "# Sample DataFrame\n",
    "data = {'Name': ['Alice', 'Bob', 'Carol'],\n",
    "        'Age': [25, 30, 22],\n",
    "        'City': ['New York', 'Los Angeles', 'Chicago']}\n",
    "df = pd.DataFrame(data)\n",
    "\n",
    "# Example 1: Viewing data\n",
    "print(\"First 2 rows:\")\n",
    "print(df.head(2))\n",
    "\n",
    "# Example 2: Grouping and aggregation\n",
    "grouped = df.groupby('City')['Age'].mean()\n",
    "print(\"\\nAverage age by city:\")\n",
    "print(grouped)\n",
    "\n",
    "# Example 3: Dropping a column\n",
    "df = df.drop('City', axis=1)\n",
    "print(\"\\nDataFrame after dropping 'City' column:\")\n",
    "print(df)\n"
   ]
  },
  {
   "cell_type": "code",
   "execution_count": null,
   "id": "e1031666-be76-40ac-ba13-a97fb0bb7939",
   "metadata": {},
   "outputs": [],
   "source": [
    "Q6. Which of the following is mutable in nature: Series, DataFrame, Panel?\n",
    "Ans:\n",
    "    \n",
    "\n",
    "In pandas, both Series and DataFrame are mutable, meaning you can modify their contents after they are created. You can add, update, or remove elements or columns in a Series or DataFrame.\n",
    "\n",
    "Note: The concept of a Panel has been deprecated in more recent versions of pandas (after version 0.25.0) and is no longer a primary data structure. Therefore, it's recommended to use DataFrames for 2-dimensional data and Series for 1-dimensional data instead of Panels."
   ]
  }
 ],
 "metadata": {
  "kernelspec": {
   "display_name": "Python 3 (ipykernel)",
   "language": "python",
   "name": "python3"
  },
  "language_info": {
   "codemirror_mode": {
    "name": "ipython",
    "version": 3
   },
   "file_extension": ".py",
   "mimetype": "text/x-python",
   "name": "python",
   "nbconvert_exporter": "python",
   "pygments_lexer": "ipython3",
   "version": "3.10.8"
  }
 },
 "nbformat": 4,
 "nbformat_minor": 5
}
